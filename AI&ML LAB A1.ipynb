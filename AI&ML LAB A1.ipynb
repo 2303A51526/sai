{
  "nbformat": 4,
  "nbformat_minor": 0,
  "metadata": {
    "colab": {
      "private_outputs": true,
      "provenance": [],
      "authorship_tag": "ABX9TyMzpyBXBRXlARLLxG/5bS5k",
      "include_colab_link": true
    },
    "kernelspec": {
      "name": "python3",
      "display_name": "Python 3"
    },
    "language_info": {
      "name": "python"
    }
  },
  "cells": [
    {
      "cell_type": "markdown",
      "metadata": {
        "id": "view-in-github",
        "colab_type": "text"
      },
      "source": [
        "<a href=\"https://colab.research.google.com/github/2303A51526/sai/blob/main/Untitled1.ipynb\" target=\"_parent\"><img src=\"https://colab.research.google.com/assets/colab-badge.svg\" alt=\"Open In Colab\"/></a>"
      ]
    },
    {
      "cell_type": "code",
      "execution_count": null,
      "metadata": {
        "id": "MQKIxYhlsr6q"
      },
      "outputs": [],
      "source": [
        "import matplotlib.pyplot as plt\n",
        "\n",
        "# Dataset\n",
        "people = ['Kiran', 'Arun', 'Vijay', 'Varun']\n",
        "age = [25, 30, 35, 40]\n",
        "height = [145, 151, 165, 173]\n",
        "weight = [45, 55, 65, 75]\n",
        "\n",
        "# Scatter Plot: Age vs Height\n",
        "plt.figure(figsize=(10, 6))\n",
        "plt.scatter(age, height, color='blue', marker='o')\n",
        "plt.title('Scatter Plot: Age vs Height')\n",
        "plt.xlabel('Age (years)')\n",
        "plt.ylabel('Height (cm)')\n",
        "plt.grid(True)\n",
        "plt.show()\n",
        "\n",
        "# Bar Chart: People vs Weight\n",
        "plt.figure(figsize=(10, 6))\n",
        "plt.bar(people, weight, color='green')\n",
        "plt.title('Bar Chart: People vs Weight')\n",
        "plt.xlabel('People')\n",
        "plt.ylabel('Weight (kg)')\n",
        "plt.show()\n",
        "\n",
        "# Histogram: Distribution of Heights\n",
        "plt.figure(figsize=(10, 6))\n",
        "plt.hist(height, bins=5, color='purple', edgecolor='black')\n",
        "plt.title('Histogram: Distribution of Heights')\n",
        "plt.xlabel('Height (cm)')\n",
        "plt.ylabel('Frequency')\n",
        "plt.show()"
      ]
    }
  ]
}

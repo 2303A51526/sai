{
  "nbformat": 4,
  "nbformat_minor": 0,
  "metadata": {
    "colab": {
      "provenance": [],
      "toc_visible": true,
      "authorship_tag": "ABX9TyNHXShFL1i+lzAecDnytv3r",
      "include_colab_link": true
    },
    "kernelspec": {
      "name": "python3",
      "display_name": "Python 3"
    },
    "language_info": {
      "name": "python"
    }
  },
  "cells": [
    {
      "cell_type": "markdown",
      "metadata": {
        "id": "view-in-github",
        "colab_type": "text"
      },
      "source": [
        "<a href=\"https://colab.research.google.com/github/2303A51526/sai/blob/main/Untitled0.ipynb\" target=\"_parent\"><img src=\"https://colab.research.google.com/assets/colab-badge.svg\" alt=\"Open In Colab\"/></a>"
      ]
    },
    {
      "cell_type": "code",
      "source": [
        "import numpy as np\n",
        "\n",
        "# Integers\n",
        "int_array = np.array([1, 2, 3], dtype=np.int32)\n",
        "\n",
        "# Floating-point numbers\n",
        "float_array = np.array([1.5, 2.7, 3.2], dtype=np.float64)\n",
        "\n",
        "# Booleans\n",
        "bool_array = np.array([True, False, True])\n",
        "\n",
        "# Strings\n",
        "string_array = np.array(['apple', 'banana', 'cherry'])"
      ],
      "metadata": {
        "id": "uThvMSjiyW1i"
      },
      "execution_count": 28,
      "outputs": []
    }
  ]
}
{
  "nbformat": 4,
  "nbformat_minor": 0,
  "metadata": {
    "colab": {
      "provenance": [],
      "authorship_tag": "ABX9TyP/KhHu4x64ywIuekzx1tpY",
      "include_colab_link": true
    },
    "kernelspec": {
      "name": "python3",
      "display_name": "Python 3"
    },
    "language_info": {
      "name": "python"
    }
  },
  "cells": [
    {
      "cell_type": "markdown",
      "metadata": {
        "id": "view-in-github",
        "colab_type": "text"
      },
      "source": [
        "<a href=\"https://colab.research.google.com/github/2303A51526/sai/blob/main/Untitled0.ipynb\" target=\"_parent\"><img src=\"https://colab.research.google.com/assets/colab-badge.svg\" alt=\"Open In Colab\"/></a>"
      ]
    },
    {
      "cell_type": "code",
      "source": [
        "import numpy as np\n",
        "\n",
        "# ndarray\n",
        "arr = np.array([1, 2, 3])\n",
        "print(type(arr))\n",
        "mat = np.matrix([[1, 2], [3, 4]])\n",
        "print(type(mat))\n",
        "\n",
        "print(type(arr[0]))"
      ],
      "metadata": {
        "colab": {
          "base_uri": "https://localhost:8080/"
        },
        "id": "qsKmwG0M7p__",
        "outputId": "66e219ae-89bc-47bb-ea65-eccae54245fb"
      },
      "execution_count": 33,
      "outputs": [
        {
          "output_type": "stream",
          "name": "stdout",
          "text": [
            "<class 'numpy.ndarray'>\n",
            "<class 'numpy.matrix'>\n",
            "<class 'numpy.int64'>\n"
          ]
        }
      ]
    },
    {
      "cell_type": "code",
      "source": [
        "import numpy as np\n",
        "\n",
        "arr1 = np.array([1, 2, 3])\n",
        "\n",
        "arr2 = np.array([[1, 2, 3], [4, 5, 6]])\n",
        "print(arr1)\n",
        "print(arr2)"
      ],
      "metadata": {
        "colab": {
          "base_uri": "https://localhost:8080/"
        },
        "id": "xM945C5G72gP",
        "outputId": "613515bd-9af3-4527-f42d-ea9dbda04e29"
      },
      "execution_count": 34,
      "outputs": [
        {
          "output_type": "stream",
          "name": "stdout",
          "text": [
            "[1 2 3]\n",
            "[[1 2 3]\n",
            " [4 5 6]]\n"
          ]
        }
      ]
    },
    {
      "cell_type": "code",
      "source": [
        "import numpy as np\n",
        "\n",
        "# Create two arrays\n",
        "arr1 = np.array([1, 2, 3])\n",
        "arr2 = np.array([4, 5, 6])\n",
        "\n",
        "# Multiplication\n",
        "result_mult = arr1 * arr2\n",
        "print(\"Multiplication:\", result_mult)\n",
        "\n",
        "# Division\n",
        "result_div = arr1 / arr2\n",
        "print(\"Division:\", result_div)\n",
        "\n",
        "# Power\n",
        "result_pow = arr1 ** 2\n",
        "print(\"Power:\", result_pow)"
      ],
      "metadata": {
        "colab": {
          "base_uri": "https://localhost:8080/"
        },
        "id": "gFSGpoxu8AUG",
        "outputId": "f10c6700-70c4-445f-9b12-2495cbdc4caa"
      },
      "execution_count": 35,
      "outputs": [
        {
          "output_type": "stream",
          "name": "stdout",
          "text": [
            "Multiplication: [ 4 10 18]\n",
            "Division: [0.25 0.4  0.5 ]\n",
            "Power: [1 4 9]\n"
          ]
        }
      ]
    },
    {
      "cell_type": "code",
      "source": [
        "import numpy as np\n",
        "\n",
        "# Create two arrays\n",
        "arr1 = np.array([1, 2, 3])\n",
        "arr2 = np.array([4, 5, 6])\n",
        "\n",
        "# addition\n",
        "result = arr1+arr2\n",
        "print(result)"
      ],
      "metadata": {
        "colab": {
          "base_uri": "https://localhost:8080/"
        },
        "id": "pG6MI1Hq8FQu",
        "outputId": "4762ec15-b705-4d54-a02c-e4c8f35fe371"
      },
      "execution_count": 37,
      "outputs": [
        {
          "output_type": "stream",
          "name": "stdout",
          "text": [
            "[5 7 9]\n"
          ]
        }
      ]
    },
    {
      "cell_type": "code",
      "source": [
        "import numpy as np\n",
        "\n",
        "arr = np.array([1, 2, 3])\n",
        "\n",
        "# Sine of each element in the array\n",
        "sin_result = np.sin(arr)\n",
        "print(\"Sine:\", sin_result)\n",
        "\n",
        "# Natural log of each element in the array\n",
        "log_result = np.log(arr)\n",
        "print(\"Natural Log:\", log_result)\n",
        "\n",
        "# Base-2 log of each element in the array\n",
        "log2_result = np.log2(arr)\n",
        "print(\"Base-2 Log:\", log2_result)\n",
        "\n",
        "# Exponential of each element in the array\n",
        "exp_result = np.exp(arr)\n",
        "print(\"Exponential:\", exp_result)"
      ],
      "metadata": {
        "id": "WpVh0ixz8Mtv",
        "outputId": "99000577-e0bb-42b0-a7cd-9eff8390f86d",
        "colab": {
          "base_uri": "https://localhost:8080/"
        }
      },
      "execution_count": 38,
      "outputs": [
        {
          "output_type": "stream",
          "name": "stdout",
          "text": [
            "Sine: [0.84147098 0.90929743 0.14112001]\n",
            "Natural Log: [0.         0.69314718 1.09861229]\n",
            "Base-2 Log: [0.        1.        1.5849625]\n",
            "Exponential: [ 2.71828183  7.3890561  20.08553692]\n"
          ]
        }
      ]
    },
    {
      "cell_type": "code",
      "source": [],
      "metadata": {
        "id": "Yu-NZDTn8N-u"
      },
      "execution_count": null,
      "outputs": []
    }
  ]
}
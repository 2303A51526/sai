{
  "nbformat": 4,
  "nbformat_minor": 0,
  "metadata": {
    "colab": {
      "provenance": [],
      "authorship_tag": "ABX9TyO5ocgJ+rX4j1Zlrw+ZyKKp",
      "include_colab_link": true
    },
    "kernelspec": {
      "name": "python3",
      "display_name": "Python 3"
    },
    "language_info": {
      "name": "python"
    }
  },
  "cells": [
    {
      "cell_type": "markdown",
      "metadata": {
        "id": "view-in-github",
        "colab_type": "text"
      },
      "source": [
        "<a href=\"https://colab.research.google.com/github/2303A51526/sai/blob/main/Untitled0.ipynb\" target=\"_parent\"><img src=\"https://colab.research.google.com/assets/colab-badge.svg\" alt=\"Open In Colab\"/></a>"
      ]
    },
    {
      "cell_type": "code",
      "source": [
        "# List of numbers\n",
        "numbers = [1, 2, 3, 4]\n",
        "\n",
        "# List of strings\n",
        "names = [\"Alice\", \"Bob\", \"Charlie\"]\n",
        "\n",
        "# Nested list (representing a matrix)\n",
        "matrix = [[1, 2], [3, 4]]"
      ],
      "metadata": {
        "id": "Sq0cNIY6ySYi"
      },
      "execution_count": 15,
      "outputs": []
    },
    {
      "cell_type": "code",
      "source": [
        "import numpy as np\n",
        "\n",
        "# 1D array from a list\n",
        "arr1 = np.array(numbers)\n",
        "\n",
        "# 2D array from a nested list\n",
        "arr2 = np.array(matrix)"
      ],
      "metadata": {
        "id": "s0uvDBMEyTw7"
      },
      "execution_count": 16,
      "outputs": []
    },
    {
      "cell_type": "code",
      "source": [
        "import pandas as pd\n",
        "\n",
        "# Series from a list\n",
        "series1 = pd.Series(numbers)\n",
        "\n",
        "# Series from a list with custom index\n",
        "series2 = pd.Series(names, index=['a', 'b', 'c'])"
      ],
      "metadata": {
        "id": "uThvMSjiyW1i"
      },
      "execution_count": 17,
      "outputs": []
    },
    {
      "cell_type": "code",
      "source": [
        "data = {'Name': names, 'Age': [25, 30, 28]}\n",
        "df = pd.DataFrame(data)"
      ],
      "metadata": {
        "id": "2tPFI8fvyZka"
      },
      "execution_count": 18,
      "outputs": []
    }
  ]
}
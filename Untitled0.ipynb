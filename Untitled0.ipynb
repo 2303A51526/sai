{
  "nbformat": 4,
  "nbformat_minor": 0,
  "metadata": {
    "colab": {
      "provenance": [],
      "authorship_tag": "ABX9TyOZpBAP0KhoHv8i+UmB25ZS",
      "include_colab_link": true
    },
    "kernelspec": {
      "name": "python3",
      "display_name": "Python 3"
    },
    "language_info": {
      "name": "python"
    }
  },
  "cells": [
    {
      "cell_type": "markdown",
      "metadata": {
        "id": "view-in-github",
        "colab_type": "text"
      },
      "source": [
        "<a href=\"https://colab.research.google.com/github/2303A51526/sai/blob/main/Untitled0.ipynb\" target=\"_parent\"><img src=\"https://colab.research.google.com/assets/colab-badge.svg\" alt=\"Open In Colab\"/></a>"
      ]
    },
    {
      "cell_type": "code",
      "source": [
        "import numpy as np\n",
        "\n",
        "# 1D array\n",
        "arr1 = np.array([1, 2, 3, 4])\n",
        "\n",
        "# 2D array\n",
        "arr2 = np.array([[1, 2], [3, 4]])\n"
      ],
      "metadata": {
        "collapsed": true,
        "id": "4sWhLqUwudt8"
      },
      "execution_count": 13,
      "outputs": []
    }
  ]
}